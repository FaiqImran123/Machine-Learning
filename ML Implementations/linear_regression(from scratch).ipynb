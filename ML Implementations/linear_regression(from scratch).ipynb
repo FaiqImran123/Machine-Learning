{
 "cells": [
  {
   "cell_type": "markdown",
   "metadata": {},
   "source": [
    "## Implementing Linear Regression From scratch"
   ]
  },
  {
   "cell_type": "code",
   "execution_count": 228,
   "metadata": {},
   "outputs": [],
   "source": [
    "import pandas as pd\n",
    "import numpy as np"
   ]
  },
  {
   "cell_type": "code",
   "execution_count": 229,
   "metadata": {},
   "outputs": [],
   "source": [
    "class MyLR:\n",
    "    def __init__(self):\n",
    "        self.m =0\n",
    "        self.b =0\n",
    "\n",
    "    def fit(self, X_train, Y_train):\n",
    "\n",
    "        num =0\n",
    "        den =0\n",
    "\n",
    "        for i in range(len(X_train)):\n",
    "            num +=(Y_train[i]-(Y_train.mean())) * (X_train[i]-X_train.mean())\n",
    "            den +=(X_train[i]-X_train.mean())*(X_train[i]-X_train.mean())\n",
    "        \n",
    "        self.m = num/den\n",
    "        self.b =Y_train.mean() - (self.m * X_train.mean())\n",
    "        return self.m, self.b\n",
    "    def predict(self, X_test):\n",
    "        l =[]\n",
    "        for j in range(len(X_test)):\n",
    "            l.append((self.m * X_test[j]) + self.b)\n",
    "        return np.array(l)\n",
    "           \n",
    "            \n",
    "            \n",
    "        \n",
    "    \n",
    "\n",
    "\n",
    "\n",
    "            \n",
    "                       "
   ]
  },
  {
   "cell_type": "code",
   "execution_count": 230,
   "metadata": {},
   "outputs": [],
   "source": [
    "df =pd.read_csv(\"placement.csv\")"
   ]
  },
  {
   "cell_type": "code",
   "execution_count": 231,
   "metadata": {},
   "outputs": [],
   "source": [
    "X =df.iloc[:, 0:-1]\n",
    "Y =df.iloc[:, 1]"
   ]
  },
  {
   "cell_type": "code",
   "execution_count": 232,
   "metadata": {},
   "outputs": [
    {
     "data": {
      "text/plain": [
       "58     3.09\n",
       "40     4.02\n",
       "34     3.42\n",
       "102    1.37\n",
       "184    3.14\n",
       "198    3.96\n",
       "95     2.79\n",
       "4      3.57\n",
       "29     3.49\n",
       "168    3.52\n",
       "171    3.76\n",
       "18     2.98\n",
       "11     2.60\n",
       "89     2.72\n",
       "110    3.76\n",
       "118    2.88\n",
       "159    4.08\n",
       "35     2.87\n",
       "136    2.10\n",
       "59     3.31\n",
       "51     3.79\n",
       "16     2.35\n",
       "44     1.86\n",
       "94     2.42\n",
       "31     3.89\n",
       "162    2.55\n",
       "38     4.36\n",
       "28     2.24\n",
       "193    1.94\n",
       "27     2.16\n",
       "47     3.26\n",
       "165    4.08\n",
       "194    3.67\n",
       "177    3.64\n",
       "176    3.23\n",
       "97     2.84\n",
       "174    2.99\n",
       "73     4.03\n",
       "69     2.94\n",
       "172    2.51\n",
       "Name: package, dtype: float64"
      ]
     },
     "execution_count": 232,
     "metadata": {},
     "output_type": "execute_result"
    }
   ],
   "source": [
    "from sklearn.model_selection import train_test_split\n",
    "X_train, X_test, Y_train, Y_test =train_test_split(X, Y, test_size=0.2, random_state=1)\n",
    "Y_test"
   ]
  },
  {
   "cell_type": "code",
   "execution_count": 233,
   "metadata": {},
   "outputs": [
    {
     "data": {
      "text/plain": [
       "(array([0.58154877]), array([-1.08598396]))"
      ]
     },
     "execution_count": 233,
     "metadata": {},
     "output_type": "execute_result"
    }
   ],
   "source": [
    "# Training model\n",
    "lr =MyLR()\n",
    "lr.fit(X_train.values, Y_train.values)\n"
   ]
  },
  {
   "cell_type": "code",
   "execution_count": 234,
   "metadata": {},
   "outputs": [
    {
     "data": {
      "text/plain": [
       "array([[2.9383335 ],\n",
       "       [4.36894346],\n",
       "       [3.18258398],\n",
       "       [1.89736121],\n",
       "       [3.49662031],\n",
       "       [3.35123312],\n",
       "       [2.76968435],\n",
       "       [2.94996447],\n",
       "       [3.07208971],\n",
       "       [3.94441286],\n",
       "       [3.57222165],\n",
       "       [2.94996447],\n",
       "       [2.75805338],\n",
       "       [2.64755911],\n",
       "       [3.67108494],\n",
       "       [3.2174769 ],\n",
       "       [3.97930579],\n",
       "       [2.90925606],\n",
       "       [2.19395108],\n",
       "       [3.31052471],\n",
       "       [4.29915761],\n",
       "       [2.8918096 ],\n",
       "       [1.87409926],\n",
       "       [2.30444534],\n",
       "       [3.62456104],\n",
       "       [2.12998071],\n",
       "       [3.9269664 ],\n",
       "       [2.36841571],\n",
       "       [1.5716939 ],\n",
       "       [2.06601035],\n",
       "       [2.31026083],\n",
       "       [3.6885314 ],\n",
       "       [3.5024358 ],\n",
       "       [3.03719679],\n",
       "       [2.57195777],\n",
       "       [2.39167766],\n",
       "       [3.170953  ],\n",
       "       [3.82228762],\n",
       "       [3.15932203],\n",
       "       [2.94414898]])"
      ]
     },
     "execution_count": 234,
     "metadata": {},
     "output_type": "execute_result"
    }
   ],
   "source": [
    "# Predicting Output\n",
    "lr.predict(X_test.values)"
   ]
  }
 ],
 "metadata": {
  "kernelspec": {
   "display_name": "Python 3",
   "language": "python",
   "name": "python3"
  },
  "language_info": {
   "codemirror_mode": {
    "name": "ipython",
    "version": 3
   },
   "file_extension": ".py",
   "mimetype": "text/x-python",
   "name": "python",
   "nbconvert_exporter": "python",
   "pygments_lexer": "ipython3",
   "version": "3.11.4"
  }
 },
 "nbformat": 4,
 "nbformat_minor": 2
}
